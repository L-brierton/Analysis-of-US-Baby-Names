{
 "cells": [
  {
   "cell_type": "markdown",
   "metadata": {},
   "source": [
    "# Analysis of the US Baby Names from 1946 to 2016"
   ]
  },
  {
   "cell_type": "markdown",
   "metadata": {},
   "source": [
    "This Python 3 notebook uses Data.gov Baby Names from Social Security Card Applications-National Level Data to analyse the following:\n",
    "- The changes in the usage of names over time\n",
    "- Analysis of unisex names and their prevalence\n",
    "- The changes in the most popular names over time\n",
    "\n",
    "Dataset found here: https://catalog.data.gov/dataset/baby-names-from-social-security-card-applications-national-level-data"
   ]
  },
  {
   "cell_type": "markdown",
   "metadata": {},
   "source": [
    "Import the required libraries that we are going to use later."
   ]
  },
  {
   "cell_type": "code",
   "execution_count": 1,
   "metadata": {},
   "outputs": [],
   "source": [
    "import os\n",
    "import os.path\n",
    "import pandas as pd\n",
    "import numpy as np\n",
    "import matplotlib.pyplot as plt\n",
    "import csv\n",
    "%matplotlib inline"
   ]
  },
  {
   "cell_type": "markdown",
   "metadata": {},
   "source": [
    "### Data Preparation"
   ]
  },
  {
   "cell_type": "markdown",
   "metadata": {},
   "source": [
    "The raw data was formatted in several .txt files with the names, sex and number of people with that name, each year having its own file. I began by creating a Dataframe from the text files, using name, sex, number and the year of the file they were present in."
   ]
  },
  {
   "cell_type": "code",
   "execution_count": 2,
   "metadata": {},
   "outputs": [],
   "source": [
    "datapath = \"./US Baby Names\""
   ]
  },
  {
   "cell_type": "markdown",
   "metadata": {},
   "source": [
    "Note: due to the amount of files this piece of code can take a couple of minutes"
   ]
  },
  {
   "cell_type": "code",
   "execution_count": 3,
   "metadata": {},
   "outputs": [
    {
     "data": {
      "text/html": [
       "<div>\n",
       "<style>\n",
       "    .dataframe thead tr:only-child th {\n",
       "        text-align: right;\n",
       "    }\n",
       "\n",
       "    .dataframe thead th {\n",
       "        text-align: left;\n",
       "    }\n",
       "\n",
       "    .dataframe tbody tr th {\n",
       "        vertical-align: top;\n",
       "    }\n",
       "</style>\n",
       "<table border=\"1\" class=\"dataframe\">\n",
       "  <thead>\n",
       "    <tr style=\"text-align: right;\">\n",
       "      <th></th>\n",
       "      <th>Name</th>\n",
       "      <th>Number</th>\n",
       "      <th>Sex</th>\n",
       "      <th>Year</th>\n",
       "    </tr>\n",
       "  </thead>\n",
       "  <tbody>\n",
       "    <tr>\n",
       "      <th>0</th>\n",
       "      <td>Mary</td>\n",
       "      <td>67465</td>\n",
       "      <td>F</td>\n",
       "      <td>1946</td>\n",
       "    </tr>\n",
       "    <tr>\n",
       "      <th>1</th>\n",
       "      <td>Linda</td>\n",
       "      <td>52709</td>\n",
       "      <td>F</td>\n",
       "      <td>1946</td>\n",
       "    </tr>\n",
       "    <tr>\n",
       "      <th>2</th>\n",
       "      <td>Patricia</td>\n",
       "      <td>46297</td>\n",
       "      <td>F</td>\n",
       "      <td>1946</td>\n",
       "    </tr>\n",
       "    <tr>\n",
       "      <th>3</th>\n",
       "      <td>Barbara</td>\n",
       "      <td>45121</td>\n",
       "      <td>F</td>\n",
       "      <td>1946</td>\n",
       "    </tr>\n",
       "    <tr>\n",
       "      <th>4</th>\n",
       "      <td>Carol</td>\n",
       "      <td>34282</td>\n",
       "      <td>F</td>\n",
       "      <td>1946</td>\n",
       "    </tr>\n",
       "    <tr>\n",
       "      <th>5</th>\n",
       "      <td>Sandra</td>\n",
       "      <td>31691</td>\n",
       "      <td>F</td>\n",
       "      <td>1946</td>\n",
       "    </tr>\n",
       "    <tr>\n",
       "      <th>6</th>\n",
       "      <td>Nancy</td>\n",
       "      <td>28343</td>\n",
       "      <td>F</td>\n",
       "      <td>1946</td>\n",
       "    </tr>\n",
       "    <tr>\n",
       "      <th>7</th>\n",
       "      <td>Susan</td>\n",
       "      <td>28268</td>\n",
       "      <td>F</td>\n",
       "      <td>1946</td>\n",
       "    </tr>\n",
       "    <tr>\n",
       "      <th>8</th>\n",
       "      <td>Sharon</td>\n",
       "      <td>27824</td>\n",
       "      <td>F</td>\n",
       "      <td>1946</td>\n",
       "    </tr>\n",
       "    <tr>\n",
       "      <th>9</th>\n",
       "      <td>Judith</td>\n",
       "      <td>22307</td>\n",
       "      <td>F</td>\n",
       "      <td>1946</td>\n",
       "    </tr>\n",
       "    <tr>\n",
       "      <th>10</th>\n",
       "      <td>Judy</td>\n",
       "      <td>20479</td>\n",
       "      <td>F</td>\n",
       "      <td>1946</td>\n",
       "    </tr>\n",
       "    <tr>\n",
       "      <th>11</th>\n",
       "      <td>Carolyn</td>\n",
       "      <td>19901</td>\n",
       "      <td>F</td>\n",
       "      <td>1946</td>\n",
       "    </tr>\n",
       "    <tr>\n",
       "      <th>12</th>\n",
       "      <td>Donna</td>\n",
       "      <td>19768</td>\n",
       "      <td>F</td>\n",
       "      <td>1946</td>\n",
       "    </tr>\n",
       "    <tr>\n",
       "      <th>13</th>\n",
       "      <td>Betty</td>\n",
       "      <td>19712</td>\n",
       "      <td>F</td>\n",
       "      <td>1946</td>\n",
       "    </tr>\n",
       "    <tr>\n",
       "      <th>14</th>\n",
       "      <td>Karen</td>\n",
       "      <td>19645</td>\n",
       "      <td>F</td>\n",
       "      <td>1946</td>\n",
       "    </tr>\n",
       "    <tr>\n",
       "      <th>15</th>\n",
       "      <td>Kathleen</td>\n",
       "      <td>18760</td>\n",
       "      <td>F</td>\n",
       "      <td>1946</td>\n",
       "    </tr>\n",
       "    <tr>\n",
       "      <th>16</th>\n",
       "      <td>Margaret</td>\n",
       "      <td>18132</td>\n",
       "      <td>F</td>\n",
       "      <td>1946</td>\n",
       "    </tr>\n",
       "    <tr>\n",
       "      <th>17</th>\n",
       "      <td>Shirley</td>\n",
       "      <td>17867</td>\n",
       "      <td>F</td>\n",
       "      <td>1946</td>\n",
       "    </tr>\n",
       "    <tr>\n",
       "      <th>18</th>\n",
       "      <td>Diane</td>\n",
       "      <td>15830</td>\n",
       "      <td>F</td>\n",
       "      <td>1946</td>\n",
       "    </tr>\n",
       "    <tr>\n",
       "      <th>19</th>\n",
       "      <td>Joyce</td>\n",
       "      <td>15211</td>\n",
       "      <td>F</td>\n",
       "      <td>1946</td>\n",
       "    </tr>\n",
       "    <tr>\n",
       "      <th>20</th>\n",
       "      <td>Janet</td>\n",
       "      <td>14142</td>\n",
       "      <td>F</td>\n",
       "      <td>1946</td>\n",
       "    </tr>\n",
       "    <tr>\n",
       "      <th>21</th>\n",
       "      <td>Janice</td>\n",
       "      <td>14036</td>\n",
       "      <td>F</td>\n",
       "      <td>1946</td>\n",
       "    </tr>\n",
       "    <tr>\n",
       "      <th>22</th>\n",
       "      <td>Dorothy</td>\n",
       "      <td>12797</td>\n",
       "      <td>F</td>\n",
       "      <td>1946</td>\n",
       "    </tr>\n",
       "    <tr>\n",
       "      <th>23</th>\n",
       "      <td>Brenda</td>\n",
       "      <td>12690</td>\n",
       "      <td>F</td>\n",
       "      <td>1946</td>\n",
       "    </tr>\n",
       "    <tr>\n",
       "      <th>24</th>\n",
       "      <td>Elizabeth</td>\n",
       "      <td>11752</td>\n",
       "      <td>F</td>\n",
       "      <td>1946</td>\n",
       "    </tr>\n",
       "    <tr>\n",
       "      <th>25</th>\n",
       "      <td>Gloria</td>\n",
       "      <td>11686</td>\n",
       "      <td>F</td>\n",
       "      <td>1946</td>\n",
       "    </tr>\n",
       "    <tr>\n",
       "      <th>26</th>\n",
       "      <td>Cheryl</td>\n",
       "      <td>11525</td>\n",
       "      <td>F</td>\n",
       "      <td>1946</td>\n",
       "    </tr>\n",
       "    <tr>\n",
       "      <th>27</th>\n",
       "      <td>Joan</td>\n",
       "      <td>11219</td>\n",
       "      <td>F</td>\n",
       "      <td>1946</td>\n",
       "    </tr>\n",
       "    <tr>\n",
       "      <th>28</th>\n",
       "      <td>Marilyn</td>\n",
       "      <td>10710</td>\n",
       "      <td>F</td>\n",
       "      <td>1946</td>\n",
       "    </tr>\n",
       "    <tr>\n",
       "      <th>29</th>\n",
       "      <td>Beverly</td>\n",
       "      <td>10430</td>\n",
       "      <td>F</td>\n",
       "      <td>1946</td>\n",
       "    </tr>\n",
       "    <tr>\n",
       "      <th>...</th>\n",
       "      <td>...</td>\n",
       "      <td>...</td>\n",
       "      <td>...</td>\n",
       "      <td>...</td>\n",
       "    </tr>\n",
       "    <tr>\n",
       "      <th>1470508</th>\n",
       "      <td>Zariyan</td>\n",
       "      <td>5</td>\n",
       "      <td>M</td>\n",
       "      <td>2016</td>\n",
       "    </tr>\n",
       "    <tr>\n",
       "      <th>1470509</th>\n",
       "      <td>Zarren</td>\n",
       "      <td>5</td>\n",
       "      <td>M</td>\n",
       "      <td>2016</td>\n",
       "    </tr>\n",
       "    <tr>\n",
       "      <th>1470510</th>\n",
       "      <td>Zaryn</td>\n",
       "      <td>5</td>\n",
       "      <td>M</td>\n",
       "      <td>2016</td>\n",
       "    </tr>\n",
       "    <tr>\n",
       "      <th>1470511</th>\n",
       "      <td>Zaxon</td>\n",
       "      <td>5</td>\n",
       "      <td>M</td>\n",
       "      <td>2016</td>\n",
       "    </tr>\n",
       "    <tr>\n",
       "      <th>1470512</th>\n",
       "      <td>Zaxtyn</td>\n",
       "      <td>5</td>\n",
       "      <td>M</td>\n",
       "      <td>2016</td>\n",
       "    </tr>\n",
       "    <tr>\n",
       "      <th>1470513</th>\n",
       "      <td>Zaye</td>\n",
       "      <td>5</td>\n",
       "      <td>M</td>\n",
       "      <td>2016</td>\n",
       "    </tr>\n",
       "    <tr>\n",
       "      <th>1470514</th>\n",
       "      <td>Zaymar</td>\n",
       "      <td>5</td>\n",
       "      <td>M</td>\n",
       "      <td>2016</td>\n",
       "    </tr>\n",
       "    <tr>\n",
       "      <th>1470515</th>\n",
       "      <td>Zaymir</td>\n",
       "      <td>5</td>\n",
       "      <td>M</td>\n",
       "      <td>2016</td>\n",
       "    </tr>\n",
       "    <tr>\n",
       "      <th>1470516</th>\n",
       "      <td>Zaynn</td>\n",
       "      <td>5</td>\n",
       "      <td>M</td>\n",
       "      <td>2016</td>\n",
       "    </tr>\n",
       "    <tr>\n",
       "      <th>1470517</th>\n",
       "      <td>Zayshaun</td>\n",
       "      <td>5</td>\n",
       "      <td>M</td>\n",
       "      <td>2016</td>\n",
       "    </tr>\n",
       "    <tr>\n",
       "      <th>1470518</th>\n",
       "      <td>Zedric</td>\n",
       "      <td>5</td>\n",
       "      <td>M</td>\n",
       "      <td>2016</td>\n",
       "    </tr>\n",
       "    <tr>\n",
       "      <th>1470519</th>\n",
       "      <td>Zekariah</td>\n",
       "      <td>5</td>\n",
       "      <td>M</td>\n",
       "      <td>2016</td>\n",
       "    </tr>\n",
       "    <tr>\n",
       "      <th>1470520</th>\n",
       "      <td>Zelan</td>\n",
       "      <td>5</td>\n",
       "      <td>M</td>\n",
       "      <td>2016</td>\n",
       "    </tr>\n",
       "    <tr>\n",
       "      <th>1470521</th>\n",
       "      <td>Zephen</td>\n",
       "      <td>5</td>\n",
       "      <td>M</td>\n",
       "      <td>2016</td>\n",
       "    </tr>\n",
       "    <tr>\n",
       "      <th>1470522</th>\n",
       "      <td>Zephyrus</td>\n",
       "      <td>5</td>\n",
       "      <td>M</td>\n",
       "      <td>2016</td>\n",
       "    </tr>\n",
       "    <tr>\n",
       "      <th>1470523</th>\n",
       "      <td>Zeric</td>\n",
       "      <td>5</td>\n",
       "      <td>M</td>\n",
       "      <td>2016</td>\n",
       "    </tr>\n",
       "    <tr>\n",
       "      <th>1470524</th>\n",
       "      <td>Zerin</td>\n",
       "      <td>5</td>\n",
       "      <td>M</td>\n",
       "      <td>2016</td>\n",
       "    </tr>\n",
       "    <tr>\n",
       "      <th>1470525</th>\n",
       "      <td>Zethan</td>\n",
       "      <td>5</td>\n",
       "      <td>M</td>\n",
       "      <td>2016</td>\n",
       "    </tr>\n",
       "    <tr>\n",
       "      <th>1470526</th>\n",
       "      <td>Zihao</td>\n",
       "      <td>5</td>\n",
       "      <td>M</td>\n",
       "      <td>2016</td>\n",
       "    </tr>\n",
       "    <tr>\n",
       "      <th>1470527</th>\n",
       "      <td>Zimo</td>\n",
       "      <td>5</td>\n",
       "      <td>M</td>\n",
       "      <td>2016</td>\n",
       "    </tr>\n",
       "    <tr>\n",
       "      <th>1470528</th>\n",
       "      <td>Zinn</td>\n",
       "      <td>5</td>\n",
       "      <td>M</td>\n",
       "      <td>2016</td>\n",
       "    </tr>\n",
       "    <tr>\n",
       "      <th>1470529</th>\n",
       "      <td>Zirui</td>\n",
       "      <td>5</td>\n",
       "      <td>M</td>\n",
       "      <td>2016</td>\n",
       "    </tr>\n",
       "    <tr>\n",
       "      <th>1470530</th>\n",
       "      <td>Ziya</td>\n",
       "      <td>5</td>\n",
       "      <td>M</td>\n",
       "      <td>2016</td>\n",
       "    </tr>\n",
       "    <tr>\n",
       "      <th>1470531</th>\n",
       "      <td>Ziyang</td>\n",
       "      <td>5</td>\n",
       "      <td>M</td>\n",
       "      <td>2016</td>\n",
       "    </tr>\n",
       "    <tr>\n",
       "      <th>1470532</th>\n",
       "      <td>Zoel</td>\n",
       "      <td>5</td>\n",
       "      <td>M</td>\n",
       "      <td>2016</td>\n",
       "    </tr>\n",
       "    <tr>\n",
       "      <th>1470533</th>\n",
       "      <td>Zolton</td>\n",
       "      <td>5</td>\n",
       "      <td>M</td>\n",
       "      <td>2016</td>\n",
       "    </tr>\n",
       "    <tr>\n",
       "      <th>1470534</th>\n",
       "      <td>Zurich</td>\n",
       "      <td>5</td>\n",
       "      <td>M</td>\n",
       "      <td>2016</td>\n",
       "    </tr>\n",
       "    <tr>\n",
       "      <th>1470535</th>\n",
       "      <td>Zyahir</td>\n",
       "      <td>5</td>\n",
       "      <td>M</td>\n",
       "      <td>2016</td>\n",
       "    </tr>\n",
       "    <tr>\n",
       "      <th>1470536</th>\n",
       "      <td>Zyel</td>\n",
       "      <td>5</td>\n",
       "      <td>M</td>\n",
       "      <td>2016</td>\n",
       "    </tr>\n",
       "    <tr>\n",
       "      <th>1470537</th>\n",
       "      <td>Zylyn</td>\n",
       "      <td>5</td>\n",
       "      <td>M</td>\n",
       "      <td>2016</td>\n",
       "    </tr>\n",
       "  </tbody>\n",
       "</table>\n",
       "<p>1470538 rows × 4 columns</p>\n",
       "</div>"
      ],
      "text/plain": [
       "              Name Number Sex  Year\n",
       "0             Mary  67465   F  1946\n",
       "1            Linda  52709   F  1946\n",
       "2         Patricia  46297   F  1946\n",
       "3          Barbara  45121   F  1946\n",
       "4            Carol  34282   F  1946\n",
       "5           Sandra  31691   F  1946\n",
       "6            Nancy  28343   F  1946\n",
       "7            Susan  28268   F  1946\n",
       "8           Sharon  27824   F  1946\n",
       "9           Judith  22307   F  1946\n",
       "10            Judy  20479   F  1946\n",
       "11         Carolyn  19901   F  1946\n",
       "12           Donna  19768   F  1946\n",
       "13           Betty  19712   F  1946\n",
       "14           Karen  19645   F  1946\n",
       "15        Kathleen  18760   F  1946\n",
       "16        Margaret  18132   F  1946\n",
       "17         Shirley  17867   F  1946\n",
       "18           Diane  15830   F  1946\n",
       "19           Joyce  15211   F  1946\n",
       "20           Janet  14142   F  1946\n",
       "21          Janice  14036   F  1946\n",
       "22         Dorothy  12797   F  1946\n",
       "23          Brenda  12690   F  1946\n",
       "24       Elizabeth  11752   F  1946\n",
       "25          Gloria  11686   F  1946\n",
       "26          Cheryl  11525   F  1946\n",
       "27            Joan  11219   F  1946\n",
       "28         Marilyn  10710   F  1946\n",
       "29         Beverly  10430   F  1946\n",
       "...            ...    ...  ..   ...\n",
       "1470508    Zariyan      5   M  2016\n",
       "1470509     Zarren      5   M  2016\n",
       "1470510      Zaryn      5   M  2016\n",
       "1470511      Zaxon      5   M  2016\n",
       "1470512     Zaxtyn      5   M  2016\n",
       "1470513       Zaye      5   M  2016\n",
       "1470514     Zaymar      5   M  2016\n",
       "1470515     Zaymir      5   M  2016\n",
       "1470516      Zaynn      5   M  2016\n",
       "1470517   Zayshaun      5   M  2016\n",
       "1470518     Zedric      5   M  2016\n",
       "1470519   Zekariah      5   M  2016\n",
       "1470520      Zelan      5   M  2016\n",
       "1470521     Zephen      5   M  2016\n",
       "1470522   Zephyrus      5   M  2016\n",
       "1470523      Zeric      5   M  2016\n",
       "1470524      Zerin      5   M  2016\n",
       "1470525     Zethan      5   M  2016\n",
       "1470526      Zihao      5   M  2016\n",
       "1470527       Zimo      5   M  2016\n",
       "1470528       Zinn      5   M  2016\n",
       "1470529      Zirui      5   M  2016\n",
       "1470530       Ziya      5   M  2016\n",
       "1470531     Ziyang      5   M  2016\n",
       "1470532       Zoel      5   M  2016\n",
       "1470533     Zolton      5   M  2016\n",
       "1470534     Zurich      5   M  2016\n",
       "1470535     Zyahir      5   M  2016\n",
       "1470536       Zyel      5   M  2016\n",
       "1470537      Zylyn      5   M  2016\n",
       "\n",
       "[1470538 rows x 4 columns]"
      ]
     },
     "execution_count": 3,
     "metadata": {},
     "output_type": "execute_result"
    }
   ],
   "source": [
    "df_raw = pd.DataFrame([],columns=['Name','Sex','Number','Year'])\n",
    "list = []\n",
    "\n",
    "for root, directories, files in os.walk(datapath):\n",
    "    for filename in files:\n",
    "        _year = os.path.splitext(filename[3:len(filename)])[0]\n",
    "       \n",
    "        filepath = os.path.join(root, filename)\n",
    "        \n",
    "        with open(filepath) as f:\n",
    "            currentline = f.readlines()\n",
    "            for entry in currentline:\n",
    "                array = entry.split(',')\n",
    "                _name = array[0]\n",
    "                _sex = array[1]\n",
    "                _number = int(array[2].replace(\"\\n\",\"\"))\n",
    "                \n",
    "                \n",
    "                list.append({'Name': _name, 'Sex': _sex, 'Number': _number, 'Year': _year})\n",
    "            \n",
    "            pieces = pd.DataFrame(list)\n",
    "            df_raw = df_raw.append(pieces,ignore_index=True)\n",
    "            list = []          \n",
    "df_raw"
   ]
  },
  {
   "cell_type": "code",
   "execution_count": 4,
   "metadata": {},
   "outputs": [
    {
     "data": {
      "text/html": [
       "<div>\n",
       "<style>\n",
       "    .dataframe thead tr:only-child th {\n",
       "        text-align: right;\n",
       "    }\n",
       "\n",
       "    .dataframe thead th {\n",
       "        text-align: left;\n",
       "    }\n",
       "\n",
       "    .dataframe tbody tr th {\n",
       "        vertical-align: top;\n",
       "    }\n",
       "</style>\n",
       "<table border=\"1\" class=\"dataframe\">\n",
       "  <thead>\n",
       "    <tr style=\"text-align: right;\">\n",
       "      <th></th>\n",
       "      <th>Name</th>\n",
       "      <th>Number</th>\n",
       "      <th>Sex</th>\n",
       "      <th>Year</th>\n",
       "    </tr>\n",
       "  </thead>\n",
       "  <tbody>\n",
       "    <tr>\n",
       "      <th>0</th>\n",
       "      <td>Mary</td>\n",
       "      <td>67465</td>\n",
       "      <td>F</td>\n",
       "      <td>1946</td>\n",
       "    </tr>\n",
       "    <tr>\n",
       "      <th>1</th>\n",
       "      <td>Linda</td>\n",
       "      <td>52709</td>\n",
       "      <td>F</td>\n",
       "      <td>1946</td>\n",
       "    </tr>\n",
       "    <tr>\n",
       "      <th>2</th>\n",
       "      <td>Patricia</td>\n",
       "      <td>46297</td>\n",
       "      <td>F</td>\n",
       "      <td>1946</td>\n",
       "    </tr>\n",
       "    <tr>\n",
       "      <th>3</th>\n",
       "      <td>Barbara</td>\n",
       "      <td>45121</td>\n",
       "      <td>F</td>\n",
       "      <td>1946</td>\n",
       "    </tr>\n",
       "    <tr>\n",
       "      <th>4</th>\n",
       "      <td>Carol</td>\n",
       "      <td>34282</td>\n",
       "      <td>F</td>\n",
       "      <td>1946</td>\n",
       "    </tr>\n",
       "    <tr>\n",
       "      <th>5</th>\n",
       "      <td>Sandra</td>\n",
       "      <td>31691</td>\n",
       "      <td>F</td>\n",
       "      <td>1946</td>\n",
       "    </tr>\n",
       "    <tr>\n",
       "      <th>6</th>\n",
       "      <td>Nancy</td>\n",
       "      <td>28343</td>\n",
       "      <td>F</td>\n",
       "      <td>1946</td>\n",
       "    </tr>\n",
       "    <tr>\n",
       "      <th>7</th>\n",
       "      <td>Susan</td>\n",
       "      <td>28268</td>\n",
       "      <td>F</td>\n",
       "      <td>1946</td>\n",
       "    </tr>\n",
       "    <tr>\n",
       "      <th>8</th>\n",
       "      <td>Sharon</td>\n",
       "      <td>27824</td>\n",
       "      <td>F</td>\n",
       "      <td>1946</td>\n",
       "    </tr>\n",
       "    <tr>\n",
       "      <th>9</th>\n",
       "      <td>Judith</td>\n",
       "      <td>22307</td>\n",
       "      <td>F</td>\n",
       "      <td>1946</td>\n",
       "    </tr>\n",
       "    <tr>\n",
       "      <th>10</th>\n",
       "      <td>Judy</td>\n",
       "      <td>20479</td>\n",
       "      <td>F</td>\n",
       "      <td>1946</td>\n",
       "    </tr>\n",
       "    <tr>\n",
       "      <th>11</th>\n",
       "      <td>Carolyn</td>\n",
       "      <td>19901</td>\n",
       "      <td>F</td>\n",
       "      <td>1946</td>\n",
       "    </tr>\n",
       "    <tr>\n",
       "      <th>12</th>\n",
       "      <td>Donna</td>\n",
       "      <td>19768</td>\n",
       "      <td>F</td>\n",
       "      <td>1946</td>\n",
       "    </tr>\n",
       "    <tr>\n",
       "      <th>13</th>\n",
       "      <td>Betty</td>\n",
       "      <td>19712</td>\n",
       "      <td>F</td>\n",
       "      <td>1946</td>\n",
       "    </tr>\n",
       "    <tr>\n",
       "      <th>14</th>\n",
       "      <td>Karen</td>\n",
       "      <td>19645</td>\n",
       "      <td>F</td>\n",
       "      <td>1946</td>\n",
       "    </tr>\n",
       "    <tr>\n",
       "      <th>15</th>\n",
       "      <td>Kathleen</td>\n",
       "      <td>18760</td>\n",
       "      <td>F</td>\n",
       "      <td>1946</td>\n",
       "    </tr>\n",
       "    <tr>\n",
       "      <th>16</th>\n",
       "      <td>Margaret</td>\n",
       "      <td>18132</td>\n",
       "      <td>F</td>\n",
       "      <td>1946</td>\n",
       "    </tr>\n",
       "    <tr>\n",
       "      <th>17</th>\n",
       "      <td>Shirley</td>\n",
       "      <td>17867</td>\n",
       "      <td>F</td>\n",
       "      <td>1946</td>\n",
       "    </tr>\n",
       "    <tr>\n",
       "      <th>18</th>\n",
       "      <td>Diane</td>\n",
       "      <td>15830</td>\n",
       "      <td>F</td>\n",
       "      <td>1946</td>\n",
       "    </tr>\n",
       "    <tr>\n",
       "      <th>19</th>\n",
       "      <td>Joyce</td>\n",
       "      <td>15211</td>\n",
       "      <td>F</td>\n",
       "      <td>1946</td>\n",
       "    </tr>\n",
       "    <tr>\n",
       "      <th>20</th>\n",
       "      <td>Janet</td>\n",
       "      <td>14142</td>\n",
       "      <td>F</td>\n",
       "      <td>1946</td>\n",
       "    </tr>\n",
       "    <tr>\n",
       "      <th>21</th>\n",
       "      <td>Janice</td>\n",
       "      <td>14036</td>\n",
       "      <td>F</td>\n",
       "      <td>1946</td>\n",
       "    </tr>\n",
       "    <tr>\n",
       "      <th>22</th>\n",
       "      <td>Dorothy</td>\n",
       "      <td>12797</td>\n",
       "      <td>F</td>\n",
       "      <td>1946</td>\n",
       "    </tr>\n",
       "    <tr>\n",
       "      <th>23</th>\n",
       "      <td>Brenda</td>\n",
       "      <td>12690</td>\n",
       "      <td>F</td>\n",
       "      <td>1946</td>\n",
       "    </tr>\n",
       "    <tr>\n",
       "      <th>24</th>\n",
       "      <td>Elizabeth</td>\n",
       "      <td>11752</td>\n",
       "      <td>F</td>\n",
       "      <td>1946</td>\n",
       "    </tr>\n",
       "    <tr>\n",
       "      <th>25</th>\n",
       "      <td>Gloria</td>\n",
       "      <td>11686</td>\n",
       "      <td>F</td>\n",
       "      <td>1946</td>\n",
       "    </tr>\n",
       "    <tr>\n",
       "      <th>26</th>\n",
       "      <td>Cheryl</td>\n",
       "      <td>11525</td>\n",
       "      <td>F</td>\n",
       "      <td>1946</td>\n",
       "    </tr>\n",
       "    <tr>\n",
       "      <th>27</th>\n",
       "      <td>Joan</td>\n",
       "      <td>11219</td>\n",
       "      <td>F</td>\n",
       "      <td>1946</td>\n",
       "    </tr>\n",
       "    <tr>\n",
       "      <th>28</th>\n",
       "      <td>Marilyn</td>\n",
       "      <td>10710</td>\n",
       "      <td>F</td>\n",
       "      <td>1946</td>\n",
       "    </tr>\n",
       "    <tr>\n",
       "      <th>29</th>\n",
       "      <td>Beverly</td>\n",
       "      <td>10430</td>\n",
       "      <td>F</td>\n",
       "      <td>1946</td>\n",
       "    </tr>\n",
       "    <tr>\n",
       "      <th>...</th>\n",
       "      <td>...</td>\n",
       "      <td>...</td>\n",
       "      <td>...</td>\n",
       "      <td>...</td>\n",
       "    </tr>\n",
       "    <tr>\n",
       "      <th>1470508</th>\n",
       "      <td>Zariyan</td>\n",
       "      <td>5</td>\n",
       "      <td>M</td>\n",
       "      <td>2016</td>\n",
       "    </tr>\n",
       "    <tr>\n",
       "      <th>1470509</th>\n",
       "      <td>Zarren</td>\n",
       "      <td>5</td>\n",
       "      <td>M</td>\n",
       "      <td>2016</td>\n",
       "    </tr>\n",
       "    <tr>\n",
       "      <th>1470510</th>\n",
       "      <td>Zaryn</td>\n",
       "      <td>5</td>\n",
       "      <td>M</td>\n",
       "      <td>2016</td>\n",
       "    </tr>\n",
       "    <tr>\n",
       "      <th>1470511</th>\n",
       "      <td>Zaxon</td>\n",
       "      <td>5</td>\n",
       "      <td>M</td>\n",
       "      <td>2016</td>\n",
       "    </tr>\n",
       "    <tr>\n",
       "      <th>1470512</th>\n",
       "      <td>Zaxtyn</td>\n",
       "      <td>5</td>\n",
       "      <td>M</td>\n",
       "      <td>2016</td>\n",
       "    </tr>\n",
       "    <tr>\n",
       "      <th>1470513</th>\n",
       "      <td>Zaye</td>\n",
       "      <td>5</td>\n",
       "      <td>M</td>\n",
       "      <td>2016</td>\n",
       "    </tr>\n",
       "    <tr>\n",
       "      <th>1470514</th>\n",
       "      <td>Zaymar</td>\n",
       "      <td>5</td>\n",
       "      <td>M</td>\n",
       "      <td>2016</td>\n",
       "    </tr>\n",
       "    <tr>\n",
       "      <th>1470515</th>\n",
       "      <td>Zaymir</td>\n",
       "      <td>5</td>\n",
       "      <td>M</td>\n",
       "      <td>2016</td>\n",
       "    </tr>\n",
       "    <tr>\n",
       "      <th>1470516</th>\n",
       "      <td>Zaynn</td>\n",
       "      <td>5</td>\n",
       "      <td>M</td>\n",
       "      <td>2016</td>\n",
       "    </tr>\n",
       "    <tr>\n",
       "      <th>1470517</th>\n",
       "      <td>Zayshaun</td>\n",
       "      <td>5</td>\n",
       "      <td>M</td>\n",
       "      <td>2016</td>\n",
       "    </tr>\n",
       "    <tr>\n",
       "      <th>1470518</th>\n",
       "      <td>Zedric</td>\n",
       "      <td>5</td>\n",
       "      <td>M</td>\n",
       "      <td>2016</td>\n",
       "    </tr>\n",
       "    <tr>\n",
       "      <th>1470519</th>\n",
       "      <td>Zekariah</td>\n",
       "      <td>5</td>\n",
       "      <td>M</td>\n",
       "      <td>2016</td>\n",
       "    </tr>\n",
       "    <tr>\n",
       "      <th>1470520</th>\n",
       "      <td>Zelan</td>\n",
       "      <td>5</td>\n",
       "      <td>M</td>\n",
       "      <td>2016</td>\n",
       "    </tr>\n",
       "    <tr>\n",
       "      <th>1470521</th>\n",
       "      <td>Zephen</td>\n",
       "      <td>5</td>\n",
       "      <td>M</td>\n",
       "      <td>2016</td>\n",
       "    </tr>\n",
       "    <tr>\n",
       "      <th>1470522</th>\n",
       "      <td>Zephyrus</td>\n",
       "      <td>5</td>\n",
       "      <td>M</td>\n",
       "      <td>2016</td>\n",
       "    </tr>\n",
       "    <tr>\n",
       "      <th>1470523</th>\n",
       "      <td>Zeric</td>\n",
       "      <td>5</td>\n",
       "      <td>M</td>\n",
       "      <td>2016</td>\n",
       "    </tr>\n",
       "    <tr>\n",
       "      <th>1470524</th>\n",
       "      <td>Zerin</td>\n",
       "      <td>5</td>\n",
       "      <td>M</td>\n",
       "      <td>2016</td>\n",
       "    </tr>\n",
       "    <tr>\n",
       "      <th>1470525</th>\n",
       "      <td>Zethan</td>\n",
       "      <td>5</td>\n",
       "      <td>M</td>\n",
       "      <td>2016</td>\n",
       "    </tr>\n",
       "    <tr>\n",
       "      <th>1470526</th>\n",
       "      <td>Zihao</td>\n",
       "      <td>5</td>\n",
       "      <td>M</td>\n",
       "      <td>2016</td>\n",
       "    </tr>\n",
       "    <tr>\n",
       "      <th>1470527</th>\n",
       "      <td>Zimo</td>\n",
       "      <td>5</td>\n",
       "      <td>M</td>\n",
       "      <td>2016</td>\n",
       "    </tr>\n",
       "    <tr>\n",
       "      <th>1470528</th>\n",
       "      <td>Zinn</td>\n",
       "      <td>5</td>\n",
       "      <td>M</td>\n",
       "      <td>2016</td>\n",
       "    </tr>\n",
       "    <tr>\n",
       "      <th>1470529</th>\n",
       "      <td>Zirui</td>\n",
       "      <td>5</td>\n",
       "      <td>M</td>\n",
       "      <td>2016</td>\n",
       "    </tr>\n",
       "    <tr>\n",
       "      <th>1470530</th>\n",
       "      <td>Ziya</td>\n",
       "      <td>5</td>\n",
       "      <td>M</td>\n",
       "      <td>2016</td>\n",
       "    </tr>\n",
       "    <tr>\n",
       "      <th>1470531</th>\n",
       "      <td>Ziyang</td>\n",
       "      <td>5</td>\n",
       "      <td>M</td>\n",
       "      <td>2016</td>\n",
       "    </tr>\n",
       "    <tr>\n",
       "      <th>1470532</th>\n",
       "      <td>Zoel</td>\n",
       "      <td>5</td>\n",
       "      <td>M</td>\n",
       "      <td>2016</td>\n",
       "    </tr>\n",
       "    <tr>\n",
       "      <th>1470533</th>\n",
       "      <td>Zolton</td>\n",
       "      <td>5</td>\n",
       "      <td>M</td>\n",
       "      <td>2016</td>\n",
       "    </tr>\n",
       "    <tr>\n",
       "      <th>1470534</th>\n",
       "      <td>Zurich</td>\n",
       "      <td>5</td>\n",
       "      <td>M</td>\n",
       "      <td>2016</td>\n",
       "    </tr>\n",
       "    <tr>\n",
       "      <th>1470535</th>\n",
       "      <td>Zyahir</td>\n",
       "      <td>5</td>\n",
       "      <td>M</td>\n",
       "      <td>2016</td>\n",
       "    </tr>\n",
       "    <tr>\n",
       "      <th>1470536</th>\n",
       "      <td>Zyel</td>\n",
       "      <td>5</td>\n",
       "      <td>M</td>\n",
       "      <td>2016</td>\n",
       "    </tr>\n",
       "    <tr>\n",
       "      <th>1470537</th>\n",
       "      <td>Zylyn</td>\n",
       "      <td>5</td>\n",
       "      <td>M</td>\n",
       "      <td>2016</td>\n",
       "    </tr>\n",
       "  </tbody>\n",
       "</table>\n",
       "<p>1470538 rows × 4 columns</p>\n",
       "</div>"
      ],
      "text/plain": [
       "              Name Number Sex  Year\n",
       "0             Mary  67465   F  1946\n",
       "1            Linda  52709   F  1946\n",
       "2         Patricia  46297   F  1946\n",
       "3          Barbara  45121   F  1946\n",
       "4            Carol  34282   F  1946\n",
       "5           Sandra  31691   F  1946\n",
       "6            Nancy  28343   F  1946\n",
       "7            Susan  28268   F  1946\n",
       "8           Sharon  27824   F  1946\n",
       "9           Judith  22307   F  1946\n",
       "10            Judy  20479   F  1946\n",
       "11         Carolyn  19901   F  1946\n",
       "12           Donna  19768   F  1946\n",
       "13           Betty  19712   F  1946\n",
       "14           Karen  19645   F  1946\n",
       "15        Kathleen  18760   F  1946\n",
       "16        Margaret  18132   F  1946\n",
       "17         Shirley  17867   F  1946\n",
       "18           Diane  15830   F  1946\n",
       "19           Joyce  15211   F  1946\n",
       "20           Janet  14142   F  1946\n",
       "21          Janice  14036   F  1946\n",
       "22         Dorothy  12797   F  1946\n",
       "23          Brenda  12690   F  1946\n",
       "24       Elizabeth  11752   F  1946\n",
       "25          Gloria  11686   F  1946\n",
       "26          Cheryl  11525   F  1946\n",
       "27            Joan  11219   F  1946\n",
       "28         Marilyn  10710   F  1946\n",
       "29         Beverly  10430   F  1946\n",
       "...            ...    ...  ..   ...\n",
       "1470508    Zariyan      5   M  2016\n",
       "1470509     Zarren      5   M  2016\n",
       "1470510      Zaryn      5   M  2016\n",
       "1470511      Zaxon      5   M  2016\n",
       "1470512     Zaxtyn      5   M  2016\n",
       "1470513       Zaye      5   M  2016\n",
       "1470514     Zaymar      5   M  2016\n",
       "1470515     Zaymir      5   M  2016\n",
       "1470516      Zaynn      5   M  2016\n",
       "1470517   Zayshaun      5   M  2016\n",
       "1470518     Zedric      5   M  2016\n",
       "1470519   Zekariah      5   M  2016\n",
       "1470520      Zelan      5   M  2016\n",
       "1470521     Zephen      5   M  2016\n",
       "1470522   Zephyrus      5   M  2016\n",
       "1470523      Zeric      5   M  2016\n",
       "1470524      Zerin      5   M  2016\n",
       "1470525     Zethan      5   M  2016\n",
       "1470526      Zihao      5   M  2016\n",
       "1470527       Zimo      5   M  2016\n",
       "1470528       Zinn      5   M  2016\n",
       "1470529      Zirui      5   M  2016\n",
       "1470530       Ziya      5   M  2016\n",
       "1470531     Ziyang      5   M  2016\n",
       "1470532       Zoel      5   M  2016\n",
       "1470533     Zolton      5   M  2016\n",
       "1470534     Zurich      5   M  2016\n",
       "1470535     Zyahir      5   M  2016\n",
       "1470536       Zyel      5   M  2016\n",
       "1470537      Zylyn      5   M  2016\n",
       "\n",
       "[1470538 rows x 4 columns]"
      ]
     },
     "execution_count": 4,
     "metadata": {},
     "output_type": "execute_result"
    }
   ],
   "source": [
    "df_raw = df_raw.sort_values(['Year', 'Sex'], ascending=[True, True], na_position='first')\n",
    "df_raw = df_raw.reset_index(drop=True)\n",
    "df_raw"
   ]
  },
  {
   "cell_type": "markdown",
   "metadata": {},
   "source": [
    "I then used that DataFrame to create a new CSV file which will be analysed for the rest of this notebook"
   ]
  },
  {
   "cell_type": "code",
   "execution_count": 5,
   "metadata": {},
   "outputs": [],
   "source": [
    "df_raw.to_csv('yobAll.csv',sep=',',index=None)\n",
    "del df_raw"
   ]
  },
  {
   "cell_type": "markdown",
   "metadata": {},
   "source": [
    "### Data Collection"
   ]
  },
  {
   "cell_type": "markdown",
   "metadata": {},
   "source": [
    "Set the file to the master we prepared earlier"
   ]
  },
  {
   "cell_type": "code",
   "execution_count": 6,
   "metadata": {},
   "outputs": [],
   "source": [
    "file = \"yobAll.csv\""
   ]
  },
  {
   "cell_type": "markdown",
   "metadata": {},
   "source": [
    "Ensure the file exists"
   ]
  },
  {
   "cell_type": "code",
   "execution_count": 7,
   "metadata": {},
   "outputs": [
    {
     "name": "stdout",
     "output_type": "stream",
     "text": [
      "Succesfully found file\n"
     ]
    }
   ],
   "source": [
    "if not os.path.exists(file):\n",
    "    print(\"Missing dataset file\")\n",
    "else:\n",
    "    print(\"Succesfully found file\")"
   ]
  },
  {
   "cell_type": "markdown",
   "metadata": {},
   "source": [
    "Next let's load and represent the CSV data using a Pandas DataFrame."
   ]
  },
  {
   "cell_type": "code",
   "execution_count": 8,
   "metadata": {},
   "outputs": [],
   "source": [
    "df_full = pd.read_csv(file)"
   ]
  },
  {
   "cell_type": "markdown",
   "metadata": {},
   "source": [
    "We can look at a sample of the data:"
   ]
  },
  {
   "cell_type": "code",
   "execution_count": 9,
   "metadata": {},
   "outputs": [
    {
     "data": {
      "text/html": [
       "<div>\n",
       "<style>\n",
       "    .dataframe thead tr:only-child th {\n",
       "        text-align: right;\n",
       "    }\n",
       "\n",
       "    .dataframe thead th {\n",
       "        text-align: left;\n",
       "    }\n",
       "\n",
       "    .dataframe tbody tr th {\n",
       "        vertical-align: top;\n",
       "    }\n",
       "</style>\n",
       "<table border=\"1\" class=\"dataframe\">\n",
       "  <thead>\n",
       "    <tr style=\"text-align: right;\">\n",
       "      <th></th>\n",
       "      <th>Name</th>\n",
       "      <th>Number</th>\n",
       "      <th>Sex</th>\n",
       "      <th>Year</th>\n",
       "    </tr>\n",
       "  </thead>\n",
       "  <tbody>\n",
       "    <tr>\n",
       "      <th>0</th>\n",
       "      <td>Mary</td>\n",
       "      <td>67465</td>\n",
       "      <td>F</td>\n",
       "      <td>1946</td>\n",
       "    </tr>\n",
       "    <tr>\n",
       "      <th>1</th>\n",
       "      <td>Linda</td>\n",
       "      <td>52709</td>\n",
       "      <td>F</td>\n",
       "      <td>1946</td>\n",
       "    </tr>\n",
       "    <tr>\n",
       "      <th>2</th>\n",
       "      <td>Patricia</td>\n",
       "      <td>46297</td>\n",
       "      <td>F</td>\n",
       "      <td>1946</td>\n",
       "    </tr>\n",
       "    <tr>\n",
       "      <th>3</th>\n",
       "      <td>Barbara</td>\n",
       "      <td>45121</td>\n",
       "      <td>F</td>\n",
       "      <td>1946</td>\n",
       "    </tr>\n",
       "    <tr>\n",
       "      <th>4</th>\n",
       "      <td>Carol</td>\n",
       "      <td>34282</td>\n",
       "      <td>F</td>\n",
       "      <td>1946</td>\n",
       "    </tr>\n",
       "  </tbody>\n",
       "</table>\n",
       "</div>"
      ],
      "text/plain": [
       "       Name  Number Sex  Year\n",
       "0      Mary   67465   F  1946\n",
       "1     Linda   52709   F  1946\n",
       "2  Patricia   46297   F  1946\n",
       "3   Barbara   45121   F  1946\n",
       "4     Carol   34282   F  1946"
      ]
     },
     "execution_count": 9,
     "metadata": {},
     "output_type": "execute_result"
    }
   ],
   "source": [
    "df_full.head(5)"
   ]
  },
  {
   "cell_type": "markdown",
   "metadata": {},
   "source": [
    "### Data Preparation"
   ]
  },
  {
   "cell_type": "markdown",
   "metadata": {},
   "source": [
    "We can see that the notebook covers a range of years. We will only consider the latest data in the file - i.e. the names from 2016."
   ]
  },
  {
   "cell_type": "code",
   "execution_count": 10,
   "metadata": {},
   "outputs": [],
   "source": [
    "df1 = df_full[df_full['Year'] == 2016].copy()"
   ]
  },
  {
   "cell_type": "code",
   "execution_count": 11,
   "metadata": {},
   "outputs": [
    {
     "data": {
      "text/html": [
       "<div>\n",
       "<style>\n",
       "    .dataframe thead tr:only-child th {\n",
       "        text-align: right;\n",
       "    }\n",
       "\n",
       "    .dataframe thead th {\n",
       "        text-align: left;\n",
       "    }\n",
       "\n",
       "    .dataframe tbody tr th {\n",
       "        vertical-align: top;\n",
       "    }\n",
       "</style>\n",
       "<table border=\"1\" class=\"dataframe\">\n",
       "  <thead>\n",
       "    <tr style=\"text-align: right;\">\n",
       "      <th></th>\n",
       "      <th>Name</th>\n",
       "      <th>Number</th>\n",
       "      <th>Sex</th>\n",
       "      <th>Year</th>\n",
       "    </tr>\n",
       "  </thead>\n",
       "  <tbody>\n",
       "    <tr>\n",
       "      <th>1437670</th>\n",
       "      <td>Emma</td>\n",
       "      <td>19414</td>\n",
       "      <td>F</td>\n",
       "      <td>2016</td>\n",
       "    </tr>\n",
       "    <tr>\n",
       "      <th>1437671</th>\n",
       "      <td>Olivia</td>\n",
       "      <td>19246</td>\n",
       "      <td>F</td>\n",
       "      <td>2016</td>\n",
       "    </tr>\n",
       "    <tr>\n",
       "      <th>1437672</th>\n",
       "      <td>Ava</td>\n",
       "      <td>16237</td>\n",
       "      <td>F</td>\n",
       "      <td>2016</td>\n",
       "    </tr>\n",
       "    <tr>\n",
       "      <th>1437673</th>\n",
       "      <td>Sophia</td>\n",
       "      <td>16070</td>\n",
       "      <td>F</td>\n",
       "      <td>2016</td>\n",
       "    </tr>\n",
       "    <tr>\n",
       "      <th>1437674</th>\n",
       "      <td>Isabella</td>\n",
       "      <td>14722</td>\n",
       "      <td>F</td>\n",
       "      <td>2016</td>\n",
       "    </tr>\n",
       "  </tbody>\n",
       "</table>\n",
       "</div>"
      ],
      "text/plain": [
       "             Name  Number Sex  Year\n",
       "1437670      Emma   19414   F  2016\n",
       "1437671    Olivia   19246   F  2016\n",
       "1437672       Ava   16237   F  2016\n",
       "1437673    Sophia   16070   F  2016\n",
       "1437674  Isabella   14722   F  2016"
      ]
     },
     "execution_count": 11,
     "metadata": {},
     "output_type": "execute_result"
    }
   ],
   "source": [
    "df1.head()"
   ]
  },
  {
   "cell_type": "code",
   "execution_count": 12,
   "metadata": {},
   "outputs": [
    {
     "data": {
      "text/plain": [
       "array(['Emma', 'Olivia', 'Ava', ..., 'Zyahir', 'Zyel', 'Zylyn'], dtype=object)"
      ]
     },
     "execution_count": 12,
     "metadata": {},
     "output_type": "execute_result"
    }
   ],
   "source": [
    "df1[\"Name\"].unique()"
   ]
  },
  {
   "cell_type": "markdown",
   "metadata": {},
   "source": [
    "We can also get a brief statistical overview of the data, including the types:"
   ]
  },
  {
   "cell_type": "code",
   "execution_count": 13,
   "metadata": {},
   "outputs": [
    {
     "name": "stdout",
     "output_type": "stream",
     "text": [
      "<class 'pandas.core.frame.DataFrame'>\n",
      "Int64Index: 32868 entries, 1437670 to 1470537\n",
      "Data columns (total 4 columns):\n",
      "Name      32868 non-null object\n",
      "Number    32868 non-null int64\n",
      "Sex       32868 non-null object\n",
      "Year      32868 non-null int64\n",
      "dtypes: int64(2), object(2)\n",
      "memory usage: 1.3+ MB\n"
     ]
    }
   ],
   "source": [
    "df1.info()"
   ]
  },
  {
   "cell_type": "markdown",
   "metadata": {},
   "source": [
    "#### Missing values"
   ]
  },
  {
   "cell_type": "markdown",
   "metadata": {},
   "source": [
    "How many missing values are there?"
   ]
  },
  {
   "cell_type": "code",
   "execution_count": 14,
   "metadata": {},
   "outputs": [
    {
     "data": {
      "text/plain": [
       "Name      0\n",
       "Number    0\n",
       "Sex       0\n",
       "Year      0\n",
       "dtype: int64"
      ]
     },
     "execution_count": 14,
     "metadata": {},
     "output_type": "execute_result"
    }
   ],
   "source": [
    "df1.isnull().sum()"
   ]
  },
  {
   "cell_type": "markdown",
   "metadata": {},
   "source": [
    "As we can see, the dataset captures a lot of information about US Baby names from 1880 to 2016 and we can see there's no problems with missing data or wrong data types.\n",
    "\n",
    "We now begin analysis of the data"
   ]
  },
  {
   "cell_type": "markdown",
   "metadata": {},
   "source": [
    "### Analysing the Data"
   ]
  },
  {
   "cell_type": "markdown",
   "metadata": {},
   "source": [
    "#### Overview of the data"
   ]
  },
  {
   "cell_type": "markdown",
   "metadata": {},
   "source": [
    "Here, we looked at the basics of the data.\n",
    "- What are the unique values?\n",
    "- How many unique names are there in the dataset?"
   ]
  },
  {
   "cell_type": "code",
   "execution_count": 17,
   "metadata": {},
   "outputs": [
    {
     "data": {
      "text/plain": [
       "array(['Mary', 'Linda', 'Patricia', ..., 'Zimo', 'Zyahir', 'Zylyn'], dtype=object)"
      ]
     },
     "execution_count": 17,
     "metadata": {},
     "output_type": "execute_result"
    }
   ],
   "source": [
    "df_full[\"Name\"].unique()"
   ]
  },
  {
   "cell_type": "code",
   "execution_count": 18,
   "metadata": {},
   "outputs": [
    {
     "data": {
      "text/plain": [
       "90630"
      ]
     },
     "execution_count": 18,
     "metadata": {},
     "output_type": "execute_result"
    }
   ],
   "source": [
    "df_full[\"Name\"].nunique()"
   ]
  },
  {
   "cell_type": "markdown",
   "metadata": {},
   "source": [
    "#### Differences between boys and girls names"
   ]
  },
  {
   "cell_type": "markdown",
   "metadata": {},
   "source": [
    "Here we split the data into two sets, boys and girls and performed analysis on each.\n",
    "- What are the most popular girls names of all time?\n",
    "- What are the most popular boys names of all time?"
   ]
  },
  {
   "cell_type": "markdown",
   "metadata": {},
   "source": [
    "We split the dataset into boys and girls names"
   ]
  },
  {
   "cell_type": "code",
   "execution_count": 19,
   "metadata": {},
   "outputs": [
    {
     "data": {
      "text/html": [
       "<div>\n",
       "<style>\n",
       "    .dataframe thead tr:only-child th {\n",
       "        text-align: right;\n",
       "    }\n",
       "\n",
       "    .dataframe thead th {\n",
       "        text-align: left;\n",
       "    }\n",
       "\n",
       "    .dataframe tbody tr th {\n",
       "        vertical-align: top;\n",
       "    }\n",
       "</style>\n",
       "<table border=\"1\" class=\"dataframe\">\n",
       "  <thead>\n",
       "    <tr style=\"text-align: right;\">\n",
       "      <th></th>\n",
       "      <th>Name</th>\n",
       "      <th>Number</th>\n",
       "      <th>Sex</th>\n",
       "      <th>Year</th>\n",
       "    </tr>\n",
       "  </thead>\n",
       "  <tbody>\n",
       "    <tr>\n",
       "      <th>0</th>\n",
       "      <td>Mary</td>\n",
       "      <td>67465</td>\n",
       "      <td>F</td>\n",
       "      <td>1946</td>\n",
       "    </tr>\n",
       "    <tr>\n",
       "      <th>1</th>\n",
       "      <td>Linda</td>\n",
       "      <td>52709</td>\n",
       "      <td>F</td>\n",
       "      <td>1946</td>\n",
       "    </tr>\n",
       "    <tr>\n",
       "      <th>2</th>\n",
       "      <td>Patricia</td>\n",
       "      <td>46297</td>\n",
       "      <td>F</td>\n",
       "      <td>1946</td>\n",
       "    </tr>\n",
       "    <tr>\n",
       "      <th>3</th>\n",
       "      <td>Barbara</td>\n",
       "      <td>45121</td>\n",
       "      <td>F</td>\n",
       "      <td>1946</td>\n",
       "    </tr>\n",
       "    <tr>\n",
       "      <th>4</th>\n",
       "      <td>Carol</td>\n",
       "      <td>34282</td>\n",
       "      <td>F</td>\n",
       "      <td>1946</td>\n",
       "    </tr>\n",
       "  </tbody>\n",
       "</table>\n",
       "</div>"
      ],
      "text/plain": [
       "       Name  Number Sex  Year\n",
       "0      Mary   67465   F  1946\n",
       "1     Linda   52709   F  1946\n",
       "2  Patricia   46297   F  1946\n",
       "3   Barbara   45121   F  1946\n",
       "4     Carol   34282   F  1946"
      ]
     },
     "execution_count": 19,
     "metadata": {},
     "output_type": "execute_result"
    }
   ],
   "source": [
    "df_girlsNames = df_full[df_full['Sex'] == \"F\"].copy()\n",
    "df_girlsNames.head(5)"
   ]
  },
  {
   "cell_type": "code",
   "execution_count": 20,
   "metadata": {
    "scrolled": true
   },
   "outputs": [
    {
     "data": {
      "text/html": [
       "<div>\n",
       "<style>\n",
       "    .dataframe thead tr:only-child th {\n",
       "        text-align: right;\n",
       "    }\n",
       "\n",
       "    .dataframe thead th {\n",
       "        text-align: left;\n",
       "    }\n",
       "\n",
       "    .dataframe tbody tr th {\n",
       "        vertical-align: top;\n",
       "    }\n",
       "</style>\n",
       "<table border=\"1\" class=\"dataframe\">\n",
       "  <thead>\n",
       "    <tr style=\"text-align: right;\">\n",
       "      <th></th>\n",
       "      <th>Name</th>\n",
       "      <th>Number</th>\n",
       "      <th>Sex</th>\n",
       "      <th>Year</th>\n",
       "    </tr>\n",
       "  </thead>\n",
       "  <tbody>\n",
       "    <tr>\n",
       "      <th>5686</th>\n",
       "      <td>James</td>\n",
       "      <td>87425</td>\n",
       "      <td>M</td>\n",
       "      <td>1946</td>\n",
       "    </tr>\n",
       "    <tr>\n",
       "      <th>5687</th>\n",
       "      <td>Robert</td>\n",
       "      <td>84137</td>\n",
       "      <td>M</td>\n",
       "      <td>1946</td>\n",
       "    </tr>\n",
       "    <tr>\n",
       "      <th>5688</th>\n",
       "      <td>John</td>\n",
       "      <td>79259</td>\n",
       "      <td>M</td>\n",
       "      <td>1946</td>\n",
       "    </tr>\n",
       "    <tr>\n",
       "      <th>5689</th>\n",
       "      <td>William</td>\n",
       "      <td>60038</td>\n",
       "      <td>M</td>\n",
       "      <td>1946</td>\n",
       "    </tr>\n",
       "    <tr>\n",
       "      <th>5690</th>\n",
       "      <td>Richard</td>\n",
       "      <td>58862</td>\n",
       "      <td>M</td>\n",
       "      <td>1946</td>\n",
       "    </tr>\n",
       "  </tbody>\n",
       "</table>\n",
       "</div>"
      ],
      "text/plain": [
       "         Name  Number Sex  Year\n",
       "5686    James   87425   M  1946\n",
       "5687   Robert   84137   M  1946\n",
       "5688     John   79259   M  1946\n",
       "5689  William   60038   M  1946\n",
       "5690  Richard   58862   M  1946"
      ]
     },
     "execution_count": 20,
     "metadata": {},
     "output_type": "execute_result"
    }
   ],
   "source": [
    "df_boysNames = df_full[df_full['Sex'] == \"M\"].copy()\n",
    "df_boysNames.head(5)"
   ]
  },
  {
   "cell_type": "markdown",
   "metadata": {},
   "source": [
    "We then grouped the names together and added all the numbers across the years to reveal the most popular names across the 137 years."
   ]
  },
  {
   "cell_type": "code",
   "execution_count": 21,
   "metadata": {},
   "outputs": [
    {
     "data": {
      "text/plain": [
       "Name\n",
       "Mary         1617673\n",
       "Jennifer     1462332\n",
       "Linda        1221227\n",
       "Elizabeth    1102639\n",
       "Patricia     1043285\n",
       "Jessica      1041271\n",
       "Susan         996504\n",
       "Lisa          962976\n",
       "Karen         885364\n",
       "Sarah         875797\n",
       "Name: Number, dtype: int64"
      ]
     },
     "execution_count": 21,
     "metadata": {},
     "output_type": "execute_result"
    }
   ],
   "source": [
    "top10GirlsNames = df_girlsNames.groupby(['Name'])['Number'].sum()\n",
    "top10GirlsNames.nlargest(10)"
   ]
  },
  {
   "cell_type": "code",
   "execution_count": 22,
   "metadata": {},
   "outputs": [
    {
     "data": {
      "text/plain": [
       "Name\n",
       "Michael        4068411\n",
       "James          3193287\n",
       "David          3074388\n",
       "John           3042423\n",
       "Robert         2903966\n",
       "William        2323124\n",
       "Christopher    1999427\n",
       "Joseph         1773517\n",
       "Daniel         1714247\n",
       "Richard        1649757\n",
       "Name: Number, dtype: int64"
      ]
     },
     "execution_count": 22,
     "metadata": {},
     "output_type": "execute_result"
    }
   ],
   "source": [
    "top10BoysNames = df_boysNames.groupby(['Name'])['Number'].sum()\n",
    "top10BoysNames.nlargest(10)"
   ]
  },
  {
   "cell_type": "markdown",
   "metadata": {},
   "source": [
    "We see that Mary is the most popular girls' name while Michael is the most popular boys' name"
   ]
  },
  {
   "cell_type": "markdown",
   "metadata": {},
   "source": [
    "#### A further look at the name Mary"
   ]
  },
  {
   "cell_type": "markdown",
   "metadata": {},
   "source": [
    "I decided to take a further look at the name Mary and found some surprising information.\n",
    "- Analysis of the name Mary as used for boys"
   ]
  },
  {
   "cell_type": "code",
   "execution_count": 23,
   "metadata": {},
   "outputs": [
    {
     "data": {
      "text/plain": [
       "Name        1\n",
       "Number    119\n",
       "Sex         2\n",
       "Year       71\n",
       "dtype: int64"
      ]
     },
     "execution_count": 23,
     "metadata": {},
     "output_type": "execute_result"
    }
   ],
   "source": [
    "df_full[df_full[\"Name\"] == \"Mary\"].nunique()"
   ]
  },
  {
   "cell_type": "markdown",
   "metadata": {},
   "source": [
    "Strangely, we see that Mary has been given to both boys and girls."
   ]
  },
  {
   "cell_type": "code",
   "execution_count": 24,
   "metadata": {},
   "outputs": [
    {
     "data": {
      "text/html": [
       "<div>\n",
       "<style>\n",
       "    .dataframe thead tr:only-child th {\n",
       "        text-align: right;\n",
       "    }\n",
       "\n",
       "    .dataframe thead th {\n",
       "        text-align: left;\n",
       "    }\n",
       "\n",
       "    .dataframe tbody tr th {\n",
       "        vertical-align: top;\n",
       "    }\n",
       "</style>\n",
       "<table border=\"1\" class=\"dataframe\">\n",
       "  <thead>\n",
       "    <tr style=\"text-align: right;\">\n",
       "      <th></th>\n",
       "      <th>Name</th>\n",
       "      <th>Number</th>\n",
       "      <th>Sex</th>\n",
       "      <th>Year</th>\n",
       "    </tr>\n",
       "  </thead>\n",
       "  <tbody>\n",
       "    <tr>\n",
       "      <th>1091795</th>\n",
       "      <td>Mary</td>\n",
       "      <td>10</td>\n",
       "      <td>M</td>\n",
       "      <td>2005</td>\n",
       "    </tr>\n",
       "    <tr>\n",
       "      <th>1125536</th>\n",
       "      <td>Mary</td>\n",
       "      <td>10</td>\n",
       "      <td>M</td>\n",
       "      <td>2006</td>\n",
       "    </tr>\n",
       "    <tr>\n",
       "      <th>1160290</th>\n",
       "      <td>Mary</td>\n",
       "      <td>10</td>\n",
       "      <td>M</td>\n",
       "      <td>2007</td>\n",
       "    </tr>\n",
       "    <tr>\n",
       "      <th>1335640</th>\n",
       "      <td>Mary</td>\n",
       "      <td>6</td>\n",
       "      <td>M</td>\n",
       "      <td>2012</td>\n",
       "    </tr>\n",
       "    <tr>\n",
       "      <th>1403870</th>\n",
       "      <td>Mary</td>\n",
       "      <td>5</td>\n",
       "      <td>M</td>\n",
       "      <td>2014</td>\n",
       "    </tr>\n",
       "  </tbody>\n",
       "</table>\n",
       "</div>"
      ],
      "text/plain": [
       "         Name  Number Sex  Year\n",
       "1091795  Mary      10   M  2005\n",
       "1125536  Mary      10   M  2006\n",
       "1160290  Mary      10   M  2007\n",
       "1335640  Mary       6   M  2012\n",
       "1403870  Mary       5   M  2014"
      ]
     },
     "execution_count": 24,
     "metadata": {},
     "output_type": "execute_result"
    }
   ],
   "source": [
    "df_boysNames[df_boysNames[\"Name\"] == \"Mary\"].tail(5)"
   ]
  },
  {
   "cell_type": "code",
   "execution_count": 25,
   "metadata": {},
   "outputs": [
    {
     "data": {
      "text/plain": [
       "<matplotlib.axes._subplots.AxesSubplot at 0x2b2089a6d8>"
      ]
     },
     "execution_count": 25,
     "metadata": {},
     "output_type": "execute_result"
    },
    {
     "data": {
      "image/png": "[encoded data removed]",
      "text/plain": [
       "<matplotlib.figure.Figure at 0x2b1661a828>"
      ]
     },
     "metadata": {
      "needs_background": "light"
     },
     "output_type": "display_data"
    }
   ],
   "source": [
    "ts = df_boysNames[df_boysNames[\"Name\"] == \"Mary\"]\n",
    "ts.plot([\"Year\"])"
   ]
  },
  {
   "cell_type": "code",
   "execution_count": 26,
   "metadata": {},
   "outputs": [
    {
     "data": {
      "text/html": [
       "<div>\n",
       "<style>\n",
       "    .dataframe thead tr:only-child th {\n",
       "        text-align: right;\n",
       "    }\n",
       "\n",
       "    .dataframe thead th {\n",
       "        text-align: left;\n",
       "    }\n",
       "\n",
       "    .dataframe tbody tr th {\n",
       "        vertical-align: top;\n",
       "    }\n",
       "</style>\n",
       "<table border=\"1\" class=\"dataframe\">\n",
       "  <thead>\n",
       "    <tr style=\"text-align: right;\">\n",
       "      <th></th>\n",
       "      <th>Name</th>\n",
       "      <th>Number</th>\n",
       "      <th>Sex</th>\n",
       "      <th>Year</th>\n",
       "    </tr>\n",
       "  </thead>\n",
       "  <tbody>\n",
       "    <tr>\n",
       "      <th>6155</th>\n",
       "      <td>Mary</td>\n",
       "      <td>186</td>\n",
       "      <td>M</td>\n",
       "      <td>1946</td>\n",
       "    </tr>\n",
       "    <tr>\n",
       "      <th>16301</th>\n",
       "      <td>Mary</td>\n",
       "      <td>184</td>\n",
       "      <td>M</td>\n",
       "      <td>1947</td>\n",
       "    </tr>\n",
       "    <tr>\n",
       "      <th>123825</th>\n",
       "      <td>Mary</td>\n",
       "      <td>184</td>\n",
       "      <td>M</td>\n",
       "      <td>1957</td>\n",
       "    </tr>\n",
       "    <tr>\n",
       "      <th>147121</th>\n",
       "      <td>Mary</td>\n",
       "      <td>170</td>\n",
       "      <td>M</td>\n",
       "      <td>1959</td>\n",
       "    </tr>\n",
       "    <tr>\n",
       "      <th>90004</th>\n",
       "      <td>Mary</td>\n",
       "      <td>170</td>\n",
       "      <td>M</td>\n",
       "      <td>1954</td>\n",
       "    </tr>\n",
       "  </tbody>\n",
       "</table>\n",
       "</div>"
      ],
      "text/plain": [
       "        Name  Number Sex  Year\n",
       "6155    Mary     186   M  1946\n",
       "16301   Mary     184   M  1947\n",
       "123825  Mary     184   M  1957\n",
       "147121  Mary     170   M  1959\n",
       "90004   Mary     170   M  1954"
      ]
     },
     "execution_count": 26,
     "metadata": {},
     "output_type": "execute_result"
    }
   ],
   "source": [
    "df_boysNames[df_boysNames[\"Name\"] == \"Mary\"].sort_values(by=[\"Number\"], ascending=False).head(5)"
   ]
  },
  {
   "cell_type": "markdown",
   "metadata": {},
   "source": [
    "We see up to 2014, Mary was given to boys also. As it boys name it peaked between the 1950s and 1960s and disappeared after 2014"
   ]
  },
  {
   "cell_type": "markdown",
   "metadata": {},
   "source": [
    "#### Analysing Unisex Names"
   ]
  },
  {
   "cell_type": "markdown",
   "metadata": {},
   "source": [
    "We decided to look further into the topic of unisex names.\n",
    "- What names have been used for boys and girls?\n",
    "- How many unisex names are there?\n",
    "- What percentage of names in the dataset have been unisex at some point?"
   ]
  },
  {
   "cell_type": "markdown",
   "metadata": {},
   "source": [
    "We grouped the names by sex then displayed only the ones that had over one unique sex"
   ]
  },
  {
   "cell_type": "code",
   "execution_count": 27,
   "metadata": {},
   "outputs": [
    {
     "data": {
      "text/plain": [
       "Name\n",
       "Aaban           [M]\n",
       "Aabha           [F]\n",
       "Aabid           [M]\n",
       "Aabir           [M]\n",
       "Aabriella       [F]\n",
       "Aada            [F]\n",
       "Aadam           [M]\n",
       "Aadan           [M]\n",
       "Aadarsh         [M]\n",
       "Aaden        [M, F]\n",
       "Name: Sex, dtype: object"
      ]
     },
     "execution_count": 27,
     "metadata": {},
     "output_type": "execute_result"
    }
   ],
   "source": [
    "df_full.groupby([\"Name\"])[\"Sex\"].unique().head(10)"
   ]
  },
  {
   "cell_type": "code",
   "execution_count": 28,
   "metadata": {},
   "outputs": [
    {
     "data": {
      "text/plain": [
       "Name\n",
       "Aaden      2\n",
       "Aadi       2\n",
       "Aadyn      2\n",
       "Aalijah    2\n",
       "Aaliyah    2\n",
       "Name: Sex, dtype: int64"
      ]
     },
     "execution_count": 28,
     "metadata": {},
     "output_type": "execute_result"
    }
   ],
   "source": [
    "df_unisexNames = df_full.groupby([\"Name\"])[\"Sex\"].nunique()\n",
    "df_2 = df_unisexNames[df_unisexNames > 1]\n",
    "df_2.head()"
   ]
  },
  {
   "cell_type": "code",
   "execution_count": 29,
   "metadata": {},
   "outputs": [
    {
     "data": {
      "text/plain": [
       "9524"
      ]
     },
     "execution_count": 29,
     "metadata": {},
     "output_type": "execute_result"
    }
   ],
   "source": [
    "df_2.count()"
   ]
  },
  {
   "cell_type": "code",
   "execution_count": 30,
   "metadata": {},
   "outputs": [
    {
     "data": {
      "text/plain": [
       "10.50866159108463"
      ]
     },
     "execution_count": 30,
     "metadata": {},
     "output_type": "execute_result"
    }
   ],
   "source": [
    "(df_2.count() / df_full[\"Name\"].nunique()) * 100"
   ]
  },
  {
   "cell_type": "markdown",
   "metadata": {},
   "source": [
    "Almost 11% of names have at some point been unisex"
   ]
  },
  {
   "cell_type": "markdown",
   "metadata": {
    "collapsed": true
   },
   "source": [
    "#### The Changes in the most popular names over time"
   ]
  },
  {
   "cell_type": "markdown",
   "metadata": {},
   "source": [
    "We decided to focus in on the differences between popular names in 1880 and 2016.\n",
    "- What are the most popular girls names in 1880 vs 2016?\n",
    "- What are the most popular boys names in 1880 vs 2016?\n",
    "- What is the difference in trends between the most popular names in 1880 vs 2016"
   ]
  },
  {
   "cell_type": "markdown",
   "metadata": {},
   "source": [
    "As we saw before, the Top Ten Girls names of all time are:"
   ]
  },
  {
   "cell_type": "code",
   "execution_count": 31,
   "metadata": {},
   "outputs": [
    {
     "data": {
      "text/plain": [
       "Name\n",
       "Mary         1617673\n",
       "Jennifer     1462332\n",
       "Linda        1221227\n",
       "Elizabeth    1102639\n",
       "Patricia     1043285\n",
       "Jessica      1041271\n",
       "Susan         996504\n",
       "Lisa          962976\n",
       "Karen         885364\n",
       "Sarah         875797\n",
       "Name: Number, dtype: int64"
      ]
     },
     "execution_count": 31,
     "metadata": {},
     "output_type": "execute_result"
    }
   ],
   "source": [
    "top10GirlsNames.nlargest(10)"
   ]
  },
  {
   "cell_type": "markdown",
   "metadata": {},
   "source": [
    "Let's compare this to the Top Ten Girls names in 2016:"
   ]
  },
  {
   "cell_type": "code",
   "execution_count": 32,
   "metadata": {},
   "outputs": [
    {
     "data": {
      "text/plain": [
       "Name\n",
       "Emma         19414\n",
       "Olivia       19246\n",
       "Ava          16237\n",
       "Sophia       16070\n",
       "Isabella     14722\n",
       "Mia          14366\n",
       "Charlotte    13030\n",
       "Abigail      11699\n",
       "Emily        10926\n",
       "Harper       10733\n",
       "Name: Number, dtype: int64"
      ]
     },
     "execution_count": 32,
     "metadata": {},
     "output_type": "execute_result"
    }
   ],
   "source": [
    "df_girlsNames2016 = df1[df1['Sex'] == \"F\"].copy()\n",
    "top10GirlsNames2016 = df_girlsNames2016.groupby(['Name'])['Number'].sum()\n",
    "top10GirlsNames2016.nlargest(10)"
   ]
  },
  {
   "cell_type": "markdown",
   "metadata": {},
   "source": [
    "And to The Ten Girl Names in 1946:"
   ]
  },
  {
   "cell_type": "code",
   "execution_count": 33,
   "metadata": {},
   "outputs": [],
   "source": [
    "df2 = df_full[df_full['Year'] == 1946].copy()"
   ]
  },
  {
   "cell_type": "code",
   "execution_count": 34,
   "metadata": {},
   "outputs": [
    {
     "data": {
      "text/plain": [
       "Name\n",
       "Mary        67465\n",
       "Linda       52709\n",
       "Patricia    46297\n",
       "Barbara     45121\n",
       "Carol       34282\n",
       "Sandra      31691\n",
       "Nancy       28343\n",
       "Susan       28268\n",
       "Sharon      27824\n",
       "Judith      22307\n",
       "Name: Number, dtype: int64"
      ]
     },
     "execution_count": 34,
     "metadata": {},
     "output_type": "execute_result"
    }
   ],
   "source": [
    "df_girlsNames1946 = df2[df2['Sex'] == \"F\"].copy()\n",
    "top10GirlsNames1946 = df_girlsNames1946.groupby(['Name'])['Number'].sum()\n",
    "top10GirlsNames1946.nlargest(10)"
   ]
  },
  {
   "cell_type": "markdown",
   "metadata": {},
   "source": [
    "Let's look at the differences trends between the top girls name of 1946 and the top girls name of 2016"
   ]
  },
  {
   "cell_type": "code",
   "execution_count": 35,
   "metadata": {},
   "outputs": [
    {
     "data": {
      "text/plain": [
       "<matplotlib.axes._subplots.AxesSubplot at 0x2b1bc5b860>"
      ]
     },
     "execution_count": 35,
     "metadata": {},
     "output_type": "execute_result"
    },
    {
     "data": {
      "image/png": "[encoded data removed]",
      "text/plain": [
       "<matplotlib.figure.Figure at 0x2b1b81f278>"
      ]
     },
     "metadata": {
      "needs_background": "light"
     },
     "output_type": "display_data"
    },
    {
     "data": {
      "image/png": "[encoded data removed]",
      "text/plain": [
       "<matplotlib.figure.Figure at 0x2b1bc5d080>"
      ]
     },
     "metadata": {
      "needs_background": "light"
     },
     "output_type": "display_data"
    }
   ],
   "source": [
    "ts1 = df_girlsNames[df_girlsNames[\"Name\"] == \"Mary\"]\n",
    "ts2 = df_girlsNames[df_girlsNames[\"Name\"] == \"Emma\"]\n",
    "ts1.plot(x=[\"Year\"])\n",
    "ts2.plot(x=[\"Year\"])"
   ]
  },
  {
   "cell_type": "markdown",
   "metadata": {},
   "source": [
    "As we can see, Mary has been consistently popular from 1990 to 1980 with popularity only starting to drop in the last 30 years.\n",
    "\n",
    "Emma, on the other hand, has only been rising since 1980."
   ]
  },
  {
   "cell_type": "markdown",
   "metadata": {},
   "source": [
    "Similarly with boys names, here are the most popular boys names of all time:"
   ]
  },
  {
   "cell_type": "code",
   "execution_count": 36,
   "metadata": {},
   "outputs": [
    {
     "data": {
      "text/plain": [
       "Name\n",
       "Michael        4068411\n",
       "James          3193287\n",
       "David          3074388\n",
       "John           3042423\n",
       "Robert         2903966\n",
       "William        2323124\n",
       "Christopher    1999427\n",
       "Joseph         1773517\n",
       "Daniel         1714247\n",
       "Richard        1649757\n",
       "Name: Number, dtype: int64"
      ]
     },
     "execution_count": 36,
     "metadata": {},
     "output_type": "execute_result"
    }
   ],
   "source": [
    "top10BoysNames.nlargest(10)"
   ]
  },
  {
   "cell_type": "markdown",
   "metadata": {},
   "source": [
    "Let's look at the Top Ten Boys Names for 2016"
   ]
  },
  {
   "cell_type": "code",
   "execution_count": 37,
   "metadata": {},
   "outputs": [
    {
     "data": {
      "text/plain": [
       "Name\n",
       "Noah        19015\n",
       "Liam        18138\n",
       "William     15668\n",
       "Mason       15192\n",
       "James       14776\n",
       "Benjamin    14569\n",
       "Jacob       14416\n",
       "Michael     13998\n",
       "Elijah      13764\n",
       "Ethan       13758\n",
       "Name: Number, dtype: int64"
      ]
     },
     "execution_count": 37,
     "metadata": {},
     "output_type": "execute_result"
    }
   ],
   "source": [
    "df_boysNames2016 = df1[df1['Sex'] == \"M\"].copy()\n",
    "top10BoysNames2016 = df_boysNames2016.groupby(['Name'])['Number'].sum()\n",
    "top10BoysNames2016.nlargest(10)"
   ]
  },
  {
   "cell_type": "markdown",
   "metadata": {},
   "source": [
    "Similarly for 1946:"
   ]
  },
  {
   "cell_type": "code",
   "execution_count": 38,
   "metadata": {},
   "outputs": [
    {
     "data": {
      "text/plain": [
       "Name\n",
       "James      87425\n",
       "Robert     84137\n",
       "John       79259\n",
       "William    60038\n",
       "Richard    58862\n",
       "David      46435\n",
       "Michael    41182\n",
       "Thomas     38865\n",
       "Charles    38201\n",
       "Ronald     31850\n",
       "Name: Number, dtype: int64"
      ]
     },
     "execution_count": 38,
     "metadata": {},
     "output_type": "execute_result"
    }
   ],
   "source": [
    "df_boysNames1946 = df2[df2['Sex'] == \"M\"].copy()\n",
    "top10BoysNames1946 = df_boysNames1946.groupby(['Name'])['Number'].sum()\n",
    "top10BoysNames1946.nlargest(10)"
   ]
  },
  {
   "cell_type": "markdown",
   "metadata": {},
   "source": [
    "Let's look at the differences trends between the top boys name of 1946 and the top boys name of 2016"
   ]
  },
  {
   "cell_type": "code",
   "execution_count": 39,
   "metadata": {},
   "outputs": [
    {
     "data": {
      "text/plain": [
       "<matplotlib.axes._subplots.AxesSubplot at 0x2b1b81f978>"
      ]
     },
     "execution_count": 39,
     "metadata": {},
     "output_type": "execute_result"
    },
    {
     "data": {
      "image/png": "[encoded data removed]",
      "text/plain": [
       "<matplotlib.figure.Figure at 0x2b1bc7b7f0>"
      ]
     },
     "metadata": {
      "needs_background": "light"
     },
     "output_type": "display_data"
    },
    {
     "data": {
      "image/png": "[encoded data removed]",
      "text/plain": [
       "<matplotlib.figure.Figure at 0x2b1bc7b438>"
      ]
     },
     "metadata": {
      "needs_background": "light"
     },
     "output_type": "display_data"
    }
   ],
   "source": [
    "ts1 = df_boysNames[df_boysNames[\"Name\"] == \"Michael\"]\n",
    "ts2 = df_boysNames[df_boysNames[\"Name\"] == \"Noah\"]\n",
    "ts1.plot(x=[\"Year\"])\n",
    "ts2.plot(x=[\"Year\"])\n"
   ]
  },
  {
   "cell_type": "markdown",
   "metadata": {
    "collapsed": true
   },
   "source": [
    "As we can see from these graphs, Michael has been consistantly popular from 1950 to 1970 then experienced a small decline, and then a rapid decline starting in the 1990s to 2016.\n",
    "\n",
    "Meanwhile, Noah has only experienced a spike in popularity in the last 20 years."
   ]
  }
 ],
 "metadata": {
  "kernelspec": {
   "display_name": "Python 3",
   "language": "python",
   "name": "python3"
  },
  "language_info": {
   "codemirror_mode": {
    "name": "ipython",
    "version": 3
   },
   "file_extension": ".py",
   "mimetype": "text/x-python",
   "name": "python",
   "nbconvert_exporter": "python",
   "pygments_lexer": "ipython3",
   "version": "3.6.3"
  }
 },
 "nbformat": 4,
 "nbformat_minor": 2
}
